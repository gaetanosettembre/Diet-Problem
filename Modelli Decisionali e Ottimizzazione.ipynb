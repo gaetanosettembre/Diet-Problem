{
 "cells": [
  {
   "cell_type": "markdown",
   "metadata": {},
   "source": [
    "# Programmazione Lineare (PL)"
   ]
  },
  {
   "cell_type": "markdown",
   "metadata": {},
   "source": [
    "La programmazione lineare (PL) è una branca della Ricerca Operativa che si occupa di studiare algoritmi per la risoluzione di problemi di ottimizzazione lineari. La programmazione lineare è un caso speciale di programmazione matematica (nota anche come ottimizzazione matematica).\n",
    "Un problema è detto lineare se, sia la Funzione Obiettivo che le funzioni che definiscono i vincoli, sono lineari. Un problema di programmazione lineare consiste quindi nel ricercare i valori delle variabili decisionali che minimizzano o massimizzano una funzione lineare e che soddisfino un insieme di vincoli lineari."
   ]
  },
  {
   "cell_type": "markdown",
   "metadata": {},
   "source": [
    "In base alla natura o dominio delle variabili decisionali, si parla di:\n",
    "* Programmazione Lineare (in senso stretto, PL) se tutte le variabili possono assumere valori reali;\n",
    "* Programmazione Lineare Booleana (PLB) se le variabili assumono i soli valori {0,1};\n",
    "* Programmazione Lineare Intera (PLI) se tutte le variabili assumono valori interi;\n",
    "* Programmazione Lineare Intera Mista (PLIM) se alcune variabili possono assumere valori reali e altre valori interi."
   ]
  },
  {
   "cell_type": "markdown",
   "metadata": {},
   "source": [
    "Problemi di questo tipo posso essere formulati nel seguente modo:\n",
    "\\begin{equation}\n",
    "\\text{min } \\displaystyle c^{T}x \\text{ } \\\\\n",
    "\\text{sog. a } \\displaystyle Ax \\ge b \\\\\n",
    "x \\ge 0\n",
    "\\end{equation}\n",
    "\n",
    "dove $c \\in \\mathbb{R}^{n}$ rappresenta il vettore dei costi, $x\\in \\mathbb{R}^{n}$ il vettore delle variabili decisionali, $A \\in \\mathbb{R}^{m x n}$ la matrice dei vincoli e $b \\in \\mathbb{R}^{m}$ il vettore dei termini noti.\n",
    "Il prodotto $c^{T}x = \\sum_{i=1}^n c_{i}x_{i}$ da minimizzare o massimizzare prende il nome di funzione obiettivo o funzione costo."
   ]
  },
  {
   "cell_type": "markdown",
   "metadata": {},
   "source": [
    "La programmazione lineare, anche per la sua relativa semplicità, è applicata in diversi settori del mondo reale: dall'industria al commercio, dai trasporti alle telecomunicazioni.\n",
    "Sono esempi di programmazione lineare:\n",
    "* Problema dello zaino (Knapsack problem)\n",
    "* Problema di assegnazione\n",
    "* Problema del commesso viaggiatore (Traveling salesman problem)\n",
    "* Problema della dieta\n",
    "\n",
    "Di seguito poniamo l'attenzione all'ultimo problema elencato.\n"
   ]
  },
  {
   "cell_type": "markdown",
   "metadata": {},
   "source": [
    "# Problema della dieta\n",
    "L'obiettivo di questo problema è selezionare una serie di alimenti che soddisfino una serie di esigenze nutrizionali giornaliere al minimo costo. Il problema è formulato come un problema di Programmazione Lineare in cui l'obiettivo è quello di ridurre al minimo i costi e soddisfare i vincoli che rappresentano le esigenze nutrizionali. I vincoli del problema della dieta in genere regolano il numero di calorie, la quantità di grassi, carboidrati, fibre, proteine, ecc assumibili in un determinato giorno."
   ]
  },
  {
   "cell_type": "markdown",
   "metadata": {},
   "source": [
    "## Cenni storici\n",
    "Il problema della dieta è uno dei primi problemi di ottimizzazione studiati negli Stati Uniti negli anni ’30 e ’40 del secolo scorso per far fronte alle richieste nutritive del personale dell’esercito, minimizzando contemporaneamente le spese derivanti dalla loro alimentazione pur fornendo una dieta sana.\n",
    "\n",
    "Uno dei primi ricercatori ad affrontare il problema fu George Stigler, che lo studiò e lo formulò nel 1939, identificando una soluzione con un metodo euristico. La sua ipotesi per il costo di una dieta ottimale era di $39.93 all'anno.\n",
    "\n",
    "In seguito, nell’autunno del 1947, Jack Laderman usando il Metodo del Simplesso (sviluppato nello stesso anno da George Dantzig) risolse il problema che comprendeva 9 equazioni e 77 variabili, impiegando circa 120 giorni/uomo per eseguire i calcoli manualmente, e scoprendo che la soluzione trovata precedentemente da Stigler era sbagliata di soli $0.24."
   ]
  },
  {
   "cell_type": "markdown",
   "metadata": {},
   "source": [
    "## Formulazione del problema"
   ]
  },
  {
   "cell_type": "markdown",
   "metadata": {},
   "source": [
    "Dato un elenco di alimenti, relativi valori nutrizionali e costo per porzione di ogni alimento, l'obiettivo del problema  è selezionare il numero di porzioni di ogni alimento da acquistare e consumare in modo da ridurre al minimo il costo della spesa soddisfacendo al contempo i requisiti nutrizionali specificati. Spesso i requisiti nutrizionali sono espressi con minimo e massimo consentito per ogni componente nutrizionale.\n",
    "In un problema di questo tipo possiamo avere diversi tipologie di vincoli:\n",
    "- Vincoli di qualità;\n",
    "- Vincoli logici;\n",
    "- Vincoli di non negatività."
   ]
  },
  {
   "cell_type": "markdown",
   "metadata": {},
   "source": [
    "Matematicamente una prima versione del problema della dieta può essere espresso come:        "
   ]
  },
  {
   "cell_type": "markdown",
   "metadata": {},
   "source": [
    "\\begin{equation}\n",
    "\\begin{array}{l}\n",
    "\\quad \\text { Min } \\sum c_{i} \\cdot x_{i} \\\\\n",
    "\\text { sogg. a }\\sum \\text {q}_{ij} \\cdot x_{i}\\ge\\text {MinNutriente}_{j} \\\\\n",
    "\\text { sogg. a }\\sum \\text {q}_{ij} \\cdot x_{i}\\le\\text {MaxNutriente}_{j} \\\\\n",
    "\\text { sogg. a }x_{i}\\ge0 \\\\\n",
    "\\end{array}\n",
    "\\end{equation}\n",
    "\n",
    "con:\\\n",
    "$c$: vettore dei costi unitari degli alimenti\\\n",
    "$q_{ij}$: quantità di nutriente $j$ presente nell'alimento $i$\\\n",
    "$MinNutriente_{j}$ e $MaxNutriente_{j}$: valore assunzione minima e massima giornaliera\tper il nutriente $j$"
   ]
  },
  {
   "cell_type": "markdown",
   "metadata": {},
   "source": [
    "## Risoluzione\n",
    "\n",
    "L’algoritmo più usato per risolvere problemi di Programmazione Lineare (come quello della dieta) è il Metodo del Simplesso, ideato dal matematico George Dantzig, considerato il padre della programmazione lineare.\n",
    "\n",
    "Senza addentrarci nel dettaglio, in seguito sono riportate alcune informazioni essenziali di questo algoritmo:\n",
    "* Il metodo del simplesso parte da una qualunque soluzione di base ammissibile (una tale soluzione di partenza viene trovata con la cosiddetta Fase I del metodo del simplesso).\n",
    "* Ad ogni iterazione, il metodo del simplesso si muove dalla soluzione di base ammissibile corrente ad una nuova soluzione di base ammissibile, ottenuta sostituendo un unico indice della base corrente con un nuovo indice.\n",
    "* Ad ogni iterazione, la nuova soluzione di base ammissibile ottenuta ha un valore della funzione obiettivo non peggiore di quello della soluzione precedente.\n",
    "* Dopo un numero finito di iterazioni, il metodo del simplesso restituisce una soluzione di base ottima (oppure fornisce una prova dell’illimitatezza del problema).\n",
    "\n",
    "Al giorno d'oggi esistono diverse soluzioni software per risolvere un problema di Programmazione Lineare. Si è deciso di usare Python e in particolare una libreria denominata PuLP, un progetto open source sviluppato da COIN-OR Foundation, una fondazione educativa e scientifica senza scopo di lucro.\\\n",
    "La missione della Fondazione COIN-OR (COmputational INfrastructure for Operations Research) è quella di creare e diffondere conoscenze relative a tutti gli aspetti della ricerca operativa computazionale promuovendo e supportando lo sviluppo guidato di software open scource, implementando un processo accademico di revisione e aumentando la consapevolezza dell'utilizzo di software per risolvere problemi.\n",
    "https://www.coin-or.org/"
   ]
  },
  {
   "cell_type": "markdown",
   "metadata": {},
   "source": [
    "### PuLP\n",
    "PuLP è una libreria scritta in Python che permette di modellare in maniera facile un PL e sfrutta diversi package come GLPK (GNU Linear Programming Kit) o COIN-OR CBC (Coin-or branch and cut) per la loro risoluzione.\n",
    "Di seguito sono riportati i link al relativo repository GitHub e documentazione: https://github.com/coin-or/Pulp, https://coin-or.github.io/pulp/index.html \\\n",
    "Per il corretto funzionamento richiede Python 2.7 o una versione superiore."
   ]
  },
  {
   "cell_type": "markdown",
   "metadata": {},
   "source": [
    "Le principali classi che ritroviamo nella libreria sono:\n",
    "- LpProblem: classe per la creazione di un nuovo PL\n",
    "- LpVariable: classe per la modellizzazione delle variabili decisionali\n",
    "- LpContraint: classe per la modellizzazione dei vincoli\n"
   ]
  },
  {
   "cell_type": "markdown",
   "metadata": {},
   "source": [
    "## Esempio"
   ]
  },
  {
   "cell_type": "markdown",
   "metadata": {},
   "source": [
    "Nel file Excel \"Dati_dieta.xls\" allegato è data una tabella di esempio di valori nutrizionali dove è riportato l'alimento, il costo e le quantità di sostanze nutritive per unità che verrà utilizzata per risolvere il seguente Problema della Dieta:"
   ]
  },
  {
   "cell_type": "markdown",
   "metadata": {},
   "source": [
    "|  | Calorie | Colesterolo(mg) | Grassi(g) | Sodio(mg) | Carboidrati(g) | Fibre(g) | Proteine(g) | Vit A(UI) | Vit C(UI) | Calcio(mg) | Ferro(mg) |\n",
    "|:-:|:-:|:-:|:-:|:-:|:-:|:-:|:-:|:-:|:-:|:-:|:-:|\n",
    "| Assunzione minima giornaliera | 1500 | 30 | 20 | 800 | 130 | 125 | 60 | 1000 | 400 | 700 | 10 |\n",
    "| Assunzione massima giornaliera | 2500 | 24 | 70 | 2000 | 450 | 250 | 100 | 10000 | 5000 | 1500 | 40 |"
   ]
  },
  {
   "cell_type": "code",
   "execution_count": 1,
   "metadata": {},
   "outputs": [
    {
     "data": {
      "text/html": [
       "<div>\n",
       "<style scoped>\n",
       "    .dataframe tbody tr th:only-of-type {\n",
       "        vertical-align: middle;\n",
       "    }\n",
       "\n",
       "    .dataframe tbody tr th {\n",
       "        vertical-align: top;\n",
       "    }\n",
       "\n",
       "    .dataframe thead th {\n",
       "        text-align: right;\n",
       "    }\n",
       "</style>\n",
       "<table border=\"1\" class=\"dataframe\">\n",
       "  <thead>\n",
       "    <tr style=\"text-align: right;\">\n",
       "      <th></th>\n",
       "      <th>Alimenti</th>\n",
       "      <th>Costo</th>\n",
       "      <th>Dim. Porzione</th>\n",
       "      <th>Calorie</th>\n",
       "      <th>Colesterolo (mg)</th>\n",
       "      <th>Grassi (g)</th>\n",
       "      <th>Sodio (mg)</th>\n",
       "      <th>Carboidrati (g)</th>\n",
       "      <th>Fibre (g)</th>\n",
       "      <th>Proteine (g)</th>\n",
       "      <th>Vitamina A (IU)</th>\n",
       "      <th>Vitamina C (IU)</th>\n",
       "      <th>Calcio (mg)</th>\n",
       "      <th>Ferro (mg)</th>\n",
       "    </tr>\n",
       "  </thead>\n",
       "  <tbody>\n",
       "    <tr>\n",
       "      <th>0</th>\n",
       "      <td>Broccoli surgelati</td>\n",
       "      <td>0.16</td>\n",
       "      <td>10 Oz Pkg</td>\n",
       "      <td>73.8</td>\n",
       "      <td>0.0</td>\n",
       "      <td>0.8</td>\n",
       "      <td>68.2</td>\n",
       "      <td>13.6</td>\n",
       "      <td>8.5</td>\n",
       "      <td>8.0</td>\n",
       "      <td>5867.4</td>\n",
       "      <td>160.2</td>\n",
       "      <td>159.0</td>\n",
       "      <td>2.3</td>\n",
       "    </tr>\n",
       "    <tr>\n",
       "      <th>1</th>\n",
       "      <td>Carote crude</td>\n",
       "      <td>0.07</td>\n",
       "      <td>1/2 Cup Shredded</td>\n",
       "      <td>23.7</td>\n",
       "      <td>0.0</td>\n",
       "      <td>0.1</td>\n",
       "      <td>19.2</td>\n",
       "      <td>5.6</td>\n",
       "      <td>1.6</td>\n",
       "      <td>0.6</td>\n",
       "      <td>15471.0</td>\n",
       "      <td>5.1</td>\n",
       "      <td>14.9</td>\n",
       "      <td>0.3</td>\n",
       "    </tr>\n",
       "    <tr>\n",
       "      <th>2</th>\n",
       "      <td>Sedano crudo</td>\n",
       "      <td>0.04</td>\n",
       "      <td>1 Stalk</td>\n",
       "      <td>6.4</td>\n",
       "      <td>0.0</td>\n",
       "      <td>0.1</td>\n",
       "      <td>34.8</td>\n",
       "      <td>1.5</td>\n",
       "      <td>0.7</td>\n",
       "      <td>0.3</td>\n",
       "      <td>53.6</td>\n",
       "      <td>2.8</td>\n",
       "      <td>16.0</td>\n",
       "      <td>0.2</td>\n",
       "    </tr>\n",
       "    <tr>\n",
       "      <th>3</th>\n",
       "      <td>Mais surgelato</td>\n",
       "      <td>0.18</td>\n",
       "      <td>1/2 Cup</td>\n",
       "      <td>72.2</td>\n",
       "      <td>0.0</td>\n",
       "      <td>0.6</td>\n",
       "      <td>2.5</td>\n",
       "      <td>17.1</td>\n",
       "      <td>2.0</td>\n",
       "      <td>2.5</td>\n",
       "      <td>106.6</td>\n",
       "      <td>5.2</td>\n",
       "      <td>3.3</td>\n",
       "      <td>0.3</td>\n",
       "    </tr>\n",
       "    <tr>\n",
       "      <th>4</th>\n",
       "      <td>Lattuga Iceberg cruda</td>\n",
       "      <td>0.02</td>\n",
       "      <td>1 Leaf</td>\n",
       "      <td>2.6</td>\n",
       "      <td>0.0</td>\n",
       "      <td>0.0</td>\n",
       "      <td>1.8</td>\n",
       "      <td>0.4</td>\n",
       "      <td>0.3</td>\n",
       "      <td>0.2</td>\n",
       "      <td>66.0</td>\n",
       "      <td>0.8</td>\n",
       "      <td>3.8</td>\n",
       "      <td>0.1</td>\n",
       "    </tr>\n",
       "    <tr>\n",
       "      <th>...</th>\n",
       "      <td>...</td>\n",
       "      <td>...</td>\n",
       "      <td>...</td>\n",
       "      <td>...</td>\n",
       "      <td>...</td>\n",
       "      <td>...</td>\n",
       "      <td>...</td>\n",
       "      <td>...</td>\n",
       "      <td>...</td>\n",
       "      <td>...</td>\n",
       "      <td>...</td>\n",
       "      <td>...</td>\n",
       "      <td>...</td>\n",
       "      <td>...</td>\n",
       "    </tr>\n",
       "    <tr>\n",
       "      <th>59</th>\n",
       "      <td>Zuppa di vongole</td>\n",
       "      <td>0.75</td>\n",
       "      <td>1 C (8 Fl Oz)</td>\n",
       "      <td>175.7</td>\n",
       "      <td>10.0</td>\n",
       "      <td>5.0</td>\n",
       "      <td>1864.9</td>\n",
       "      <td>21.8</td>\n",
       "      <td>1.5</td>\n",
       "      <td>10.9</td>\n",
       "      <td>20.1</td>\n",
       "      <td>4.8</td>\n",
       "      <td>82.8</td>\n",
       "      <td>2.8</td>\n",
       "    </tr>\n",
       "    <tr>\n",
       "      <th>60</th>\n",
       "      <td>Zuppa di pomodoro</td>\n",
       "      <td>0.39</td>\n",
       "      <td>1 C (8 Fl Oz)</td>\n",
       "      <td>170.7</td>\n",
       "      <td>0.0</td>\n",
       "      <td>3.8</td>\n",
       "      <td>1744.4</td>\n",
       "      <td>33.2</td>\n",
       "      <td>1.0</td>\n",
       "      <td>4.1</td>\n",
       "      <td>1393.0</td>\n",
       "      <td>133.0</td>\n",
       "      <td>27.6</td>\n",
       "      <td>3.5</td>\n",
       "    </tr>\n",
       "    <tr>\n",
       "      <th>61</th>\n",
       "      <td>Brodo di pesce</td>\n",
       "      <td>0.99</td>\n",
       "      <td>1 C (8 Fl Oz)</td>\n",
       "      <td>163.7</td>\n",
       "      <td>22.3</td>\n",
       "      <td>6.6</td>\n",
       "      <td>992.0</td>\n",
       "      <td>16.6</td>\n",
       "      <td>1.5</td>\n",
       "      <td>9.5</td>\n",
       "      <td>163.7</td>\n",
       "      <td>3.5</td>\n",
       "      <td>186.0</td>\n",
       "      <td>1.5</td>\n",
       "    </tr>\n",
       "    <tr>\n",
       "      <th>62</th>\n",
       "      <td>Crema di funghi</td>\n",
       "      <td>0.65</td>\n",
       "      <td>1 C (8 Fl Oz)</td>\n",
       "      <td>203.4</td>\n",
       "      <td>19.8</td>\n",
       "      <td>13.6</td>\n",
       "      <td>1076.3</td>\n",
       "      <td>15.0</td>\n",
       "      <td>0.5</td>\n",
       "      <td>6.1</td>\n",
       "      <td>153.8</td>\n",
       "      <td>2.2</td>\n",
       "      <td>178.6</td>\n",
       "      <td>0.6</td>\n",
       "    </tr>\n",
       "    <tr>\n",
       "      <th>63</th>\n",
       "      <td>Zuppa di faglioli</td>\n",
       "      <td>0.67</td>\n",
       "      <td>1 C (8 Fl Oz)</td>\n",
       "      <td>172.0</td>\n",
       "      <td>2.5</td>\n",
       "      <td>5.9</td>\n",
       "      <td>951.3</td>\n",
       "      <td>22.8</td>\n",
       "      <td>8.6</td>\n",
       "      <td>7.9</td>\n",
       "      <td>888.0</td>\n",
       "      <td>1.5</td>\n",
       "      <td>81.0</td>\n",
       "      <td>2.0</td>\n",
       "    </tr>\n",
       "  </tbody>\n",
       "</table>\n",
       "<p>64 rows × 14 columns</p>\n",
       "</div>"
      ],
      "text/plain": [
       "                 Alimenti  Costo     Dim. Porzione  Calorie  Colesterolo (mg)  \\\n",
       "0      Broccoli surgelati   0.16         10 Oz Pkg     73.8               0.0   \n",
       "1            Carote crude   0.07  1/2 Cup Shredded     23.7               0.0   \n",
       "2            Sedano crudo   0.04           1 Stalk      6.4               0.0   \n",
       "3          Mais surgelato   0.18           1/2 Cup     72.2               0.0   \n",
       "4   Lattuga Iceberg cruda   0.02            1 Leaf      2.6               0.0   \n",
       "..                    ...    ...               ...      ...               ...   \n",
       "59       Zuppa di vongole   0.75     1 C (8 Fl Oz)    175.7              10.0   \n",
       "60      Zuppa di pomodoro   0.39     1 C (8 Fl Oz)    170.7               0.0   \n",
       "61         Brodo di pesce   0.99     1 C (8 Fl Oz)    163.7              22.3   \n",
       "62        Crema di funghi   0.65     1 C (8 Fl Oz)    203.4              19.8   \n",
       "63      Zuppa di faglioli   0.67     1 C (8 Fl Oz)    172.0               2.5   \n",
       "\n",
       "    Grassi (g)  Sodio (mg)  Carboidrati (g)  Fibre (g)  Proteine (g)  \\\n",
       "0          0.8        68.2             13.6        8.5           8.0   \n",
       "1          0.1        19.2              5.6        1.6           0.6   \n",
       "2          0.1        34.8              1.5        0.7           0.3   \n",
       "3          0.6         2.5             17.1        2.0           2.5   \n",
       "4          0.0         1.8              0.4        0.3           0.2   \n",
       "..         ...         ...              ...        ...           ...   \n",
       "59         5.0      1864.9             21.8        1.5          10.9   \n",
       "60         3.8      1744.4             33.2        1.0           4.1   \n",
       "61         6.6       992.0             16.6        1.5           9.5   \n",
       "62        13.6      1076.3             15.0        0.5           6.1   \n",
       "63         5.9       951.3             22.8        8.6           7.9   \n",
       "\n",
       "    Vitamina A (IU)  Vitamina C (IU)  Calcio (mg)  Ferro (mg)  \n",
       "0            5867.4            160.2        159.0         2.3  \n",
       "1           15471.0              5.1         14.9         0.3  \n",
       "2              53.6              2.8         16.0         0.2  \n",
       "3             106.6              5.2          3.3         0.3  \n",
       "4              66.0              0.8          3.8         0.1  \n",
       "..              ...              ...          ...         ...  \n",
       "59             20.1              4.8         82.8         2.8  \n",
       "60           1393.0            133.0         27.6         3.5  \n",
       "61            163.7              3.5        186.0         1.5  \n",
       "62            153.8              2.2        178.6         0.6  \n",
       "63            888.0              1.5         81.0         2.0  \n",
       "\n",
       "[64 rows x 14 columns]"
      ]
     },
     "execution_count": 1,
     "metadata": {},
     "output_type": "execute_result"
    }
   ],
   "source": [
    "# Importiamo Pandas e PuLP\n",
    "import pandas as pd\n",
    "from pulp import *\n",
    "\n",
    "# Importiamo la tabella nutrizionale dal file excel allegato e creaiamo il DataFrame\n",
    "DataFrame = pd.read_excel(\"Dati_dieta.xls\")\n",
    "DataFrame"
   ]
  },
  {
   "cell_type": "markdown",
   "metadata": {},
   "source": [
    "Come prima cosa creiamo una lista di tutti gli alimenti presenti nel dataset e un dizionario che associa ad ogni alimento il suo prezzo unitario."
   ]
  },
  {
   "cell_type": "code",
   "execution_count": 2,
   "metadata": {},
   "outputs": [],
   "source": [
    "lista_alimenti = list(DataFrame['Alimenti'])\n",
    "costi = dict(zip(lista_alimenti,DataFrame['Costo']))\n",
    "#print(lista_alimenti)\n",
    "#print(costi)"
   ]
  },
  {
   "cell_type": "markdown",
   "metadata": {},
   "source": [
    "Ora creiamo una oggetto di tipo LpProblem istanziando la classe omonima e specificando come parametri il nome e la tipologia del problema, nel nostro caso un problema di minimizzazione."
   ]
  },
  {
   "cell_type": "code",
   "execution_count": 3,
   "metadata": {},
   "outputs": [],
   "source": [
    "problema_dieta = LpProblem(\"ProblemaDieta\", LpMinimize) #LpMaximize se volessimo creare un problema di massimo"
   ]
  },
  {
   "cell_type": "markdown",
   "metadata": {},
   "source": [
    "Nel seguente snippet sono riportate delle righe di codice finalizzate alla creazione di dizionari in modo tale da avere una corrispondenza tra alimento e la quantità di nutriente contenuta. Creiamo un dizionario per ogni nutriente presente nel dataset in quanto ci saranno utili successivamente per l'istanziazione dei vincoli. "
   ]
  },
  {
   "cell_type": "code",
   "execution_count": 4,
   "metadata": {},
   "outputs": [],
   "source": [
    "calorie = dict(zip(lista_alimenti,DataFrame['Calorie']))\n",
    "colesterolo = dict(zip(lista_alimenti,DataFrame['Colesterolo (mg)']))\n",
    "grassi = dict(zip(lista_alimenti,DataFrame['Grassi (g)']))\n",
    "sodio = dict(zip(lista_alimenti,DataFrame['Sodio (mg)']))\n",
    "carboidrati = dict(zip(lista_alimenti,DataFrame['Carboidrati (g)']))\n",
    "fibre = dict(zip(lista_alimenti,DataFrame['Fibre (g)']))\n",
    "proteine = dict(zip(lista_alimenti,DataFrame['Proteine (g)']))\n",
    "calcio = dict(zip(lista_alimenti,DataFrame['Calcio (mg)']))\n",
    "ferro = dict(zip(lista_alimenti,DataFrame['Ferro (mg)']))\n",
    "vitamina_A = dict(zip(lista_alimenti,DataFrame['Vitamina A (IU)']))\n",
    "vitamina_C = dict(zip(lista_alimenti,DataFrame['Vitamina C (IU)']))"
   ]
  },
  {
   "cell_type": "markdown",
   "metadata": {},
   "source": [
    "Dichiariamo adesso un dizionario di alimenti che corrispondono alle nostre variabili decisionali. Usiamo il metodo presente nella libreria PuLP per specificare il dominio delle nostre variabili e la tipologia. Sfruttiamo questo metodo per inserire il vincolo di non negatività delle nostre variabili, indicando con 0 il limite inferiore. Particolare rilevanza è ricoperta dal parametro \"cat\" che può assumere il valore di 'Continuous' o 'Integer', indicando la tipologia della soluzione, se reale o intera."
   ]
  },
  {
   "cell_type": "code",
   "execution_count": 5,
   "metadata": {},
   "outputs": [],
   "source": [
    "# La specifica del metodo è la seguente:\n",
    "# dicts(name,indexs,lowBound=None,upBound=None,cat='Continuous',indexStart=[])\n",
    "\n",
    "var_alimenti = LpVariable.dicts(\"Alimento\",lista_alimenti, lowBound=0, cat='Continuous') #o cat='Integer'"
   ]
  },
  {
   "cell_type": "markdown",
   "metadata": {},
   "source": [
    "Adesso abbiamo tutti i dati necessari per aggiungere al nostro problema di programmazione linare la funzione obiettivo."
   ]
  },
  {
   "cell_type": "code",
   "execution_count": 6,
   "metadata": {},
   "outputs": [],
   "source": [
    "problema_dieta += lpSum([costi[i]*var_alimenti[i] for i in var_alimenti])"
   ]
  },
  {
   "cell_type": "markdown",
   "metadata": {},
   "source": [
    "Definiamo i valori minimi e massimi giornalieri di ogni nutriente presente nel dataset."
   ]
  },
  {
   "cell_type": "code",
   "execution_count": 7,
   "metadata": {},
   "outputs": [],
   "source": [
    "Min_Calorie = 1500; Max_Calorie = 2500\n",
    "Min_Colesterolo = 30; Max_Colesterolo = 240\n",
    "Min_Grassi = 20; Max_Grassi = 70\n",
    "Min_Sodio = 800; Max_Sodio = 2000\n",
    "Min_Carboidrati = 130; Max_Carboidrati = 450\n",
    "Min_Fibre = 125; Max_Fibre = 250\n",
    "Min_Proteine = 60; Max_Proteine = 100\n",
    "Min_Calcio = 700; Max_Calcio = 1500\n",
    "Min_Ferro = 10; Max_Ferro = 40\n",
    "Min_VitaminaA = 1000; Max_VitaminaA = 10000\n",
    "Min_VitaminaC = 400; Max_VitaminaC = 5000"
   ]
  },
  {
   "cell_type": "markdown",
   "metadata": {},
   "source": [
    "Fatto ciò possiamo aggiungere i vincoli di qualità al nostro problema:"
   ]
  },
  {
   "cell_type": "code",
   "execution_count": 8,
   "metadata": {},
   "outputs": [],
   "source": [
    "problema_dieta += lpSum([calorie[i] * var_alimenti[i] for i in lista_alimenti]) >= Min_Calorie\n",
    "problema_dieta += lpSum([calorie[i] * var_alimenti[i] for i in lista_alimenti]) <= Max_Calorie\n",
    "\n",
    "problema_dieta += lpSum([colesterolo[i] * var_alimenti[i] for i in lista_alimenti]) >= Min_Colesterolo\n",
    "problema_dieta += lpSum([colesterolo[i] * var_alimenti[i] for i in lista_alimenti]) <= Max_Colesterolo\n",
    "\n",
    "problema_dieta += lpSum([grassi[i] * var_alimenti[i] for i in lista_alimenti]) >= Min_Grassi\n",
    "problema_dieta += lpSum([grassi[i] * var_alimenti[i] for i in lista_alimenti]) <= Max_Grassi\n",
    "\n",
    "problema_dieta += lpSum([sodio[i] * var_alimenti[i] for i in lista_alimenti]) >= Min_Sodio\n",
    "problema_dieta += lpSum([sodio[i] * var_alimenti[i] for i in lista_alimenti]) <= Max_Sodio\n",
    "\n",
    "problema_dieta += lpSum([carboidrati[i] * var_alimenti[i] for i in lista_alimenti]) >= Min_Carboidrati\n",
    "problema_dieta += lpSum([carboidrati[i] * var_alimenti[i] for i in lista_alimenti]) <= Max_Carboidrati\n",
    "\n",
    "problema_dieta += lpSum([fibre[i] * var_alimenti[i] for i in lista_alimenti]) >= Min_Fibre\n",
    "problema_dieta += lpSum([fibre[i] * var_alimenti[i] for i in lista_alimenti]) <= Max_Fibre\n",
    "\n",
    "problema_dieta += lpSum([proteine[i] * var_alimenti[i] for i in lista_alimenti]) >= Min_Proteine\n",
    "problema_dieta += lpSum([proteine[i] * var_alimenti[i] for i in lista_alimenti]) <= Max_Proteine\n",
    "\n",
    "problema_dieta += lpSum([calcio[i] * var_alimenti[i] for i in lista_alimenti]) >= Min_Calcio\n",
    "problema_dieta += lpSum([calcio[i] * var_alimenti[i] for i in lista_alimenti]) <= Max_Calcio\n",
    "\n",
    "problema_dieta += lpSum([ferro[i] * var_alimenti[i] for i in lista_alimenti]) >= Min_Ferro\n",
    "problema_dieta += lpSum([ferro[i] * var_alimenti[i] for i in lista_alimenti]) <= Max_Ferro\n",
    "\n",
    "problema_dieta += lpSum([vitamina_A[i] * var_alimenti[i] for i in lista_alimenti]) >= Min_VitaminaA\n",
    "problema_dieta += lpSum([vitamina_A[i] * var_alimenti[i] for i in lista_alimenti]) <= Max_VitaminaA\n",
    "\n",
    "problema_dieta += lpSum([vitamina_C[i] * var_alimenti[i] for i in lista_alimenti]) >= Min_VitaminaC\n",
    "problema_dieta += lpSum([vitamina_C[i] * var_alimenti[i] for i in lista_alimenti]) <= Max_VitaminaC"
   ]
  },
  {
   "cell_type": "markdown",
   "metadata": {},
   "source": [
    "A questo punto utilizzando il metodo solve() possiamo risolvere il problema di programmazione lineare appena formulato e verificare se:\n",
    "- il PL ammette soluzione e la soluzione fornita è una soluzione ottima\n",
    "- il PL è inammissibile, cioè l'insieme delle soluzioni è vuoto\n",
    "- il PL è illimitato\n",
    "\n",
    "Il metodo che la libreria PuLP usa di default come Solver di un PL generico è l'algoritmo CBC (Coin-or Branch and Cut che sfrutta l'Algoritmo del Simplesso) ma possiamo facilmente scaricare, implementare e usare altri Solver. Nel nostro caso si è proceduto nel download tramite Anaconda di GLPK (GNU Linear Programming Kit), un pacchetto scritto in linguaggio C che include diverse versioni del Simplesso, Branch and Bound, ecc"
   ]
  },
  {
   "cell_type": "code",
   "execution_count": 9,
   "metadata": {},
   "outputs": [],
   "source": [
    "# Qui è riportata la righa di codice che permette, anche da un semplice Jupyter Notebook\n",
    "# o dal terminale Anaconda, di installare il pacchetto GLPK con il relativo Solver compatibile con PuLP\n",
    "\n",
    "# Decommentare la righa seguente per installare\n",
    "#!conda install -c conda-forge glpk"
   ]
  },
  {
   "cell_type": "code",
   "execution_count": 10,
   "metadata": {},
   "outputs": [
    {
     "name": "stdout",
     "output_type": "stream",
     "text": [
      "['GLPK_CMD', 'PULP_CBC_CMD', 'PULP_CHOCO_CMD']\n"
     ]
    }
   ],
   "source": [
    "# Dalla libreria PuLP invochiamo il metodo 'listSolvers' per visualizzare tutti i solver compatibili\n",
    "# e con il parametro onlyAvailable=True solamente quelli installati e disponibili per l'uso\n",
    "lista_solver = listSolvers(onlyAvailable=True)\n",
    "print(lista_solver)"
   ]
  },
  {
   "cell_type": "code",
   "execution_count": 11,
   "metadata": {},
   "outputs": [
    {
     "name": "stdout",
     "output_type": "stream",
     "text": [
      "Status soluzione: Optimal\n"
     ]
    }
   ],
   "source": [
    "problema_dieta.solve()\n",
    "# Decommentare la riga di codice successiva se vogliamo risolvere il problema formulato utilizzando il solver GLPK\n",
    "# problema_dieta.solve(solver = GLPK_CMD())\n",
    "\n",
    "# L'attributo status dell'oggetto LpProblem restituisce lo status del problema\n",
    "print(\"Status soluzione:\", LpStatus[problema_dieta.status])"
   ]
  },
  {
   "cell_type": "markdown",
   "metadata": {},
   "source": [
    "A questo punto il vettore delle variabili decisionali $x$ conterrà le quantità di ciascun alimento. Il vettore soluzione $x^{*}$ è un vettore $\\mathbb{R}^{n}$ che conterrà valori non negativi. In quanto siamo interessati a scoprire quali alimenti comprare/mangiare in questo determinato giorno, andiamo a visualizzare solamente le componenti (alimenti) positive.\\\n",
    "Inoltre, il valore della nostra funzione obiettivo, calcolata nella soluzione $x^{*}$ appena trovata, corrisponderà al costo della dieta.\n"
   ]
  },
  {
   "cell_type": "code",
   "execution_count": 12,
   "metadata": {},
   "outputs": [
    {
     "name": "stdout",
     "output_type": "stream",
     "text": [
      "Una dieta equilibrata ottimale, minimizzando il costo, dovrebbe comprendere:\n",
      "\n",
      "Alimento_Arancia = 2.293\n",
      "Alimento_Broccoli_surgelati = 0.26\n",
      "Alimento_Lattuga_Iceberg_cruda = 63.989\n",
      "Alimento_Popcorn = 13.869\n",
      "Alimento_Sedano_crudo = 52.644\n",
      "Alimento_Uova_in_camicia = 0.142\n",
      "\n",
      "Il costo totale di questa dieta è di: $4.34\n"
     ]
    }
   ],
   "source": [
    "print(\"Una dieta equilibrata ottimale, minimizzando il costo, dovrebbe comprendere:\\n\")\n",
    "for var in problema_dieta.variables():\n",
    "    if var.varValue > 0:\n",
    "        print(var.name, \"=\", round(var.varValue, 3))\n",
    "        \n",
    "print(f'\\nIl costo totale di questa dieta è di: ${round(value(problema_dieta.objective),2)}')      "
   ]
  },
  {
   "cell_type": "markdown",
   "metadata": {},
   "source": [
    "Come possiamo notare il vettore soluzione contiene componenti reali, che in un dominio come questo non è molto pratico. Nonostante ciò bisogna tener conto della colonna 'Dim. Porzione' del dataset iniziale.\n",
    "Nel caso non volessimo avere tale problema basterà semplicemente modificare il dominio delle variabili decisionali al momento della loro dichiarazione (vedi snippet [5]). \\\n",
    "In questo caso si parlerà, come detto all'inizio, di un problema di Programmazione Lineare Intera (PLI) che potrà essere comunque risolto con il codice già scritto."
   ]
  },
  {
   "cell_type": "markdown",
   "metadata": {},
   "source": [
    "NB: Nel file pdf allegato è riportata anche la soluzione del corrispettivo PL Intero."
   ]
  },
  {
   "cell_type": "markdown",
   "metadata": {},
   "source": [
    "Sebbere la formulazione matematica di questa tipologia di problemi è relativamente semplice, la soluzione proposta potrebbe non essere molto invitante :("
   ]
  }
 ],
 "metadata": {
  "kernelspec": {
   "display_name": "Python 3",
   "language": "python",
   "name": "python3"
  },
  "language_info": {
   "codemirror_mode": {
    "name": "ipython",
    "version": 3
   },
   "file_extension": ".py",
   "mimetype": "text/x-python",
   "name": "python",
   "nbconvert_exporter": "python",
   "pygments_lexer": "ipython3",
   "version": "3.7.9"
  }
 },
 "nbformat": 4,
 "nbformat_minor": 4
}
